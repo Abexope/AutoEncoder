{
 "cells": [
  {
   "cell_type": "markdown",
   "metadata": {},
   "source": [
    "# 去燥自动编码器\n",
    "标准自动编码器和稀疏自动编码器属于欠完备自动编码器，因为隐藏层的维度比输入（输出）层低。去噪自编码器属于过完备自编码器，隐藏层的维数大于输入层时效果会更好。  \n",
    "  \n",
    "去噪自编码器从受损（噪声）输入中学习，它向编码器网络提供有噪声的输入，然后将解码器的重构图像与原始输入进行比较，这就能“教会”网络去学习如何对输入去噪。不再只是进行像素比较，为了去噪，它也会学习相邻像素的信息。\n",
    "  \n",
    "去噪自编码器也具有 $KL$ 散度惩罚项，它不同于稀疏自编码器的主要有两个方面，首先，隐藏层的单元数 $n_{hidden}$ 大于输入层的单元数 $m$，即 $n_{hidden} > m$ ；其次，编码器的输入是受损输入，要做到这一点，需要定义了一个给输入添加噪声的受损函数"
   ]
  },
  {
   "cell_type": "code",
   "execution_count": 1,
   "metadata": {},
   "outputs": [],
   "source": [
    "def corrupt_img(x, noise_factor=0.3):\n",
    "    noisy_imgs = x + noise_factor * np.random.randn(*x.shape)\n",
    "    noisy_imgs = np.clip(noisy_imgs, 0., 1.)\n",
    "    return noisy_imgs"
   ]
  },
  {
   "cell_type": "markdown",
   "metadata": {},
   "source": [
    "## 实例：利用MNIST数据集训练去燥自动编码器，并使用它对测试图像去燥和重构"
   ]
  },
  {
   "cell_type": "markdown",
   "metadata": {},
   "source": [
    "1. 导入模块"
   ]
  },
  {
   "cell_type": "code",
   "execution_count": 2,
   "metadata": {},
   "outputs": [],
   "source": [
    "import tensorflow as tf\n",
    "import numpy as np\n",
    "from tensorflow.examples.tutorials.mnist import input_data\n",
    "import matplotlib.pyplot as plt\n",
    "import math\n",
    "%matplotlib inline"
   ]
  },
  {
   "cell_type": "markdown",
   "metadata": {},
   "source": [
    "2. 加载 MNIST 数据集"
   ]
  },
  {
   "cell_type": "code",
   "execution_count": 3,
   "metadata": {
    "collapsed": true
   },
   "outputs": [
    {
     "name": "stdout",
     "output_type": "stream",
     "text": [
      "WARNING:tensorflow:From <ipython-input-3-618565c425aa>:1: read_data_sets (from tensorflow.contrib.learn.python.learn.datasets.mnist) is deprecated and will be removed in a future version.\n",
      "Instructions for updating:\n",
      "Please use alternatives such as official/mnist/dataset.py from tensorflow/models.\n",
      "WARNING:tensorflow:From D:\\ProgramFiles\\Anaconda3\\lib\\site-packages\\tensorflow\\contrib\\learn\\python\\learn\\datasets\\mnist.py:260: maybe_download (from tensorflow.contrib.learn.python.learn.datasets.base) is deprecated and will be removed in a future version.\n",
      "Instructions for updating:\n",
      "Please write your own downloading logic.\n",
      "WARNING:tensorflow:From D:\\ProgramFiles\\Anaconda3\\lib\\site-packages\\tensorflow\\contrib\\learn\\python\\learn\\datasets\\mnist.py:262: extract_images (from tensorflow.contrib.learn.python.learn.datasets.mnist) is deprecated and will be removed in a future version.\n",
      "Instructions for updating:\n",
      "Please use tf.data to implement this functionality.\n",
      "Extracting MNIST_data\\train-images-idx3-ubyte.gz\n",
      "WARNING:tensorflow:From D:\\ProgramFiles\\Anaconda3\\lib\\site-packages\\tensorflow\\contrib\\learn\\python\\learn\\datasets\\mnist.py:267: extract_labels (from tensorflow.contrib.learn.python.learn.datasets.mnist) is deprecated and will be removed in a future version.\n",
      "Instructions for updating:\n",
      "Please use tf.data to implement this functionality.\n",
      "Extracting MNIST_data\\train-labels-idx1-ubyte.gz\n",
      "Extracting MNIST_data\\t10k-images-idx3-ubyte.gz\n",
      "Extracting MNIST_data\\t10k-labels-idx1-ubyte.gz\n",
      "WARNING:tensorflow:From D:\\ProgramFiles\\Anaconda3\\lib\\site-packages\\tensorflow\\contrib\\learn\\python\\learn\\datasets\\mnist.py:290: DataSet.__init__ (from tensorflow.contrib.learn.python.learn.datasets.mnist) is deprecated and will be removed in a future version.\n",
      "Instructions for updating:\n",
      "Please use alternatives such as official/mnist/dataset.py from tensorflow/models.\n"
     ]
    }
   ],
   "source": [
    "mnist = input_data.read_data_sets('MNIST_data')\n",
    "trX, trY, teX, teY = mnist.train.images, mnist.train.labels, mnist.test.images, mnist.test.labels"
   ]
  },
  {
   "cell_type": "markdown",
   "metadata": {},
   "source": [
    "3. 定义类 DenoisingAutoEncoder，与前面的 SparseAutoEncoder 类相似。在这里，定义一个受噪声影响的图像的占位符，将这个噪声图像送入编码器；重构误差是原始清晰图像和解码器输出之间的差异，这里保留了稀疏惩罚项，因此，fit 函数参数包括原始图像和噪声图像\n",
    "\n",
    "`这种去燥相当于有监督去燥（学习）`"
   ]
  },
  {
   "cell_type": "code",
   "execution_count": 4,
   "metadata": {},
   "outputs": [],
   "source": [
    "class DenoisingAutoEncoder:\n",
    "    \"\"\"去燥自编码器\"\"\"\n",
    "        \n",
    "    def __init__(self, m, n, eta=0.01):\n",
    "        \"\"\"\n",
    "        m：输入输出层神经元数\n",
    "        n：隐藏层神经元数\n",
    "        \"\"\"\n",
    "        self._m = m\n",
    "        self._n = n\n",
    "        self.learning_rate = eta\n",
    "        self.session = None\n",
    "        \n",
    "        # 构建计算图\n",
    "        \n",
    "        # 权重与偏置\n",
    "        self._W1 = tf.Variable(tf.random_normal(shape=(self._m, self._n)))\n",
    "        self._W2 = tf.Variable(tf.random_normal(shape=(self._n, self._m)))\n",
    "        self._b1 = tf.Variable(np.zeros(self._n).astype(np.float32))    # 隐藏层偏置\n",
    "        self._b2 = tf.Variable(np.zeros(self._m).astype(np.float32))    # 输出层偏置\n",
    "        \n",
    "        # 输入层占位符\n",
    "        self._X = tf.placeholder(dtype='float', shape=[None, self._m])        # 原始图像\n",
    "#         self._X_noisy = tf.placeholder(dtype='float', shape=[None, self._m])  # 外部加燥图像\n",
    "        self._X_noisy = self.corrupt(self._X) * 0.3 + self._X * (1 - 0.3)     # 内部加燥图像\n",
    "        \n",
    "        # 编码器\n",
    "        self.y = self.encoder(self._X_noisy)\n",
    "        \n",
    "        # 解码器\n",
    "        self.r = self.decoder(self.y)\n",
    "        \n",
    "        # 解码误差\n",
    "        error = self._X - self.r\n",
    "        \n",
    "        # 损失函数\n",
    "        self._loss = tf.reduce_mean(tf.pow(error, 2))   # MSE\n",
    "        alpha = 5e-2\n",
    "        kl_div_loss = tf.reduce_sum(self.kl_div(0.02, tf.reduce_mean(self.y, 0)))   # 由KL散度定义的稀疏参数正则项\n",
    "        loss = self._loss + alpha * kl_div_loss   # MSE + 系数参数正则项\n",
    "        \n",
    "        # 优化算法\n",
    "        self._opt = tf.train.AdamOptimizer(self.learning_rate).minimize(loss)\n",
    "        \n",
    "    def logfunc(self, x1, x2):\n",
    "        \"\"\"对数运算\"\"\"\n",
    "        return tf.multiply(x1, tf.log(tf.div(x1, x2)))\n",
    "    \n",
    "    def kl_div(self, rho, rho_hat):\n",
    "        \"\"\"计算KL散度\"\"\"\n",
    "        term2_num = tf.constant(1.) - rho\n",
    "        term2_den = tf.constant(1.) - rho_hat\n",
    "        kl = self.logfunc(rho, rho_hat) + self.logfunc(term2_num, term2_den)\n",
    "        return kl\n",
    "        \n",
    "    def encoder(self, x):\n",
    "        \"\"\"编码器\"\"\"\n",
    "        h = tf.matmul(x, self._W1) + self._b1\n",
    "        return tf.nn.sigmoid(h)\n",
    "    \n",
    "    def decoder(self, x):\n",
    "        \"\"\"解码器\"\"\"\n",
    "        h = tf.matmul(x, self._W2) + self._b2\n",
    "        return tf.nn.sigmoid(h)\n",
    "    \n",
    "    def corrupt(self, x):\n",
    "        return x * tf.cast(tf.random.uniform(shape=tf.shape(x), minval=0, maxval=2), dtype=tf.float32)\n",
    "    \n",
    "    def get_weights(self):\n",
    "        return self.session.run([self._W1, self._W2, self._b1, self._b2])\n",
    "    \n",
    "    def set_session(self, session):\n",
    "        \"\"\"开启会话\"\"\"\n",
    "        self.session = session\n",
    "        \n",
    "    def reduced_dimension(self, x):\n",
    "        \"\"\"降维\"\"\"\n",
    "        h = self.encoder(x)\n",
    "        return self.session.run(h, feed_dict={self._X: x})\n",
    "    \n",
    "    def reconstruct(self, x):\n",
    "        \"\"\"重构\"\"\"\n",
    "        h = self.encoder(x)\n",
    "        r = self.decoder(h)\n",
    "        return self.session.run(r, feed_dict={self._X: x})\n",
    "    \n",
    "    def fit(self, X, epochs=1, batch_size=100):\n",
    "        N, D = X.shape\n",
    "        num_batches = N // batch_size\n",
    "        obj = []\n",
    "        for i in range(epochs):\n",
    "            for j in range(num_batches):\n",
    "                batch = X[j * batch_size: (j * batch_size + batch_size)]\n",
    "#                 batchO = Xorg[j * batch_size: (j * batch_size + batch_size)]\n",
    "                _, ob = self.session.run(\n",
    "                    [self._opt, self._loss], \n",
    "                    feed_dict={self._X: batch}\n",
    "                )\n",
    "                if j % 100 == 0:\n",
    "                    print('training epoch {0} batch {2} cost {1}'.format(i, ob, j))\n",
    "                obj.append(ob)\n",
    "        return obj\n",
    "    \n",
    "    "
   ]
  },
  {
   "cell_type": "markdown",
   "metadata": {},
   "source": [
    "4. 实例化 DenoisingAutoEncoder 类对象，调用 fit() 方法训练，然后计算重构的去燥图像"
   ]
  },
  {
   "cell_type": "code",
   "execution_count": 5,
   "metadata": {},
   "outputs": [
    {
     "name": "stdout",
     "output_type": "stream",
     "text": [
      "WARNING:tensorflow:From D:\\ProgramFiles\\Anaconda3\\lib\\site-packages\\tensorflow\\python\\framework\\op_def_library.py:263: colocate_with (from tensorflow.python.framework.ops) is deprecated and will be removed in a future version.\n",
      "Instructions for updating:\n",
      "Colocations handled automatically by placer.\n",
      "WARNING:tensorflow:From <ipython-input-4-fcdf992c996b>:47: div (from tensorflow.python.ops.math_ops) is deprecated and will be removed in a future version.\n",
      "Instructions for updating:\n",
      "Deprecated in favor of operator or tf.math.divide.\n",
      "WARNING:tensorflow:From D:\\ProgramFiles\\Anaconda3\\lib\\site-packages\\tensorflow\\python\\ops\\math_ops.py:3066: to_int32 (from tensorflow.python.ops.math_ops) is deprecated and will be removed in a future version.\n",
      "Instructions for updating:\n",
      "Use tf.cast instead.\n",
      "training epoch 0 batch 0 cost 0.4482918977737427\n",
      "training epoch 0 batch 100 cost 0.07958418130874634\n",
      "training epoch 0 batch 200 cost 0.053167980164289474\n",
      "training epoch 0 batch 300 cost 0.05126785859465599\n",
      "training epoch 0 batch 400 cost 0.040393222123384476\n",
      "training epoch 0 batch 500 cost 0.03885403275489807\n",
      "training epoch 1 batch 0 cost 0.03491075336933136\n",
      "training epoch 1 batch 100 cost 0.030165234580636024\n",
      "training epoch 1 batch 200 cost 0.027853144332766533\n",
      "training epoch 1 batch 300 cost 0.03343869745731354\n",
      "training epoch 1 batch 400 cost 0.028413018211722374\n",
      "training epoch 1 batch 500 cost 0.029249968007206917\n",
      "training epoch 2 batch 0 cost 0.026227347552776337\n",
      "training epoch 2 batch 100 cost 0.0238335020840168\n",
      "training epoch 2 batch 200 cost 0.023948784917593002\n",
      "training epoch 2 batch 300 cost 0.029348431155085564\n",
      "training epoch 2 batch 400 cost 0.02490372210741043\n",
      "training epoch 2 batch 500 cost 0.027484342455863953\n",
      "training epoch 3 batch 0 cost 0.02356834150850773\n",
      "training epoch 3 batch 100 cost 0.022485187277197838\n",
      "training epoch 3 batch 200 cost 0.021779505535960197\n",
      "training epoch 3 batch 300 cost 0.02761329896748066\n",
      "training epoch 3 batch 400 cost 0.024629807099699974\n",
      "training epoch 3 batch 500 cost 0.025204749777913094\n",
      "training epoch 4 batch 0 cost 0.02268422394990921\n",
      "training epoch 4 batch 100 cost 0.02129083126783371\n",
      "training epoch 4 batch 200 cost 0.021856101229786873\n",
      "training epoch 4 batch 300 cost 0.02561785839498043\n",
      "training epoch 4 batch 400 cost 0.02311166189610958\n",
      "training epoch 4 batch 500 cost 0.02464480884373188\n",
      "training epoch 5 batch 0 cost 0.02155107632279396\n",
      "training epoch 5 batch 100 cost 0.02192791923880577\n",
      "training epoch 5 batch 200 cost 0.02132636494934559\n",
      "training epoch 5 batch 300 cost 0.026314610615372658\n",
      "training epoch 5 batch 400 cost 0.02248384989798069\n",
      "training epoch 5 batch 500 cost 0.0242287740111351\n",
      "training epoch 6 batch 0 cost 0.021563837304711342\n",
      "training epoch 6 batch 100 cost 0.021297981962561607\n",
      "training epoch 6 batch 200 cost 0.021159902215003967\n",
      "training epoch 6 batch 300 cost 0.02550160326063633\n",
      "training epoch 6 batch 400 cost 0.021896477788686752\n",
      "training epoch 6 batch 500 cost 0.022706011310219765\n",
      "training epoch 7 batch 0 cost 0.02099342830479145\n",
      "training epoch 7 batch 100 cost 0.021733753383159637\n",
      "training epoch 7 batch 200 cost 0.021458428353071213\n",
      "training epoch 7 batch 300 cost 0.025846609845757484\n",
      "training epoch 7 batch 400 cost 0.02155638299882412\n",
      "training epoch 7 batch 500 cost 0.02318611368536949\n",
      "training epoch 8 batch 0 cost 0.02063186839222908\n",
      "training epoch 8 batch 100 cost 0.02091270312666893\n",
      "training epoch 8 batch 200 cost 0.021310564130544662\n",
      "training epoch 8 batch 300 cost 0.02630884014070034\n",
      "training epoch 8 batch 400 cost 0.022296186536550522\n",
      "training epoch 8 batch 500 cost 0.022869661450386047\n",
      "training epoch 9 batch 0 cost 0.020872721448540688\n",
      "training epoch 9 batch 100 cost 0.019900549203157425\n",
      "training epoch 9 batch 200 cost 0.02135402150452137\n",
      "training epoch 9 batch 300 cost 0.026028238236904144\n",
      "training epoch 9 batch 400 cost 0.02220526710152626\n",
      "training epoch 9 batch 500 cost 0.022721024230122566\n"
     ]
    }
   ],
   "source": [
    "n_hidden = 800\n",
    "Xtrain = trX.astype(np.float32)\n",
    "Xtest = teX.astype(np.float32)\n",
    "_, m = Xtrain.shape\n",
    "\n",
    "denoising_auto_encoder = DenoisingAutoEncoder(m, n_hidden)\n",
    "\n",
    "# 变量初始化\n",
    "init = tf.global_variables_initializer()\n",
    "with tf.Session() as sess:\n",
    "    sess.run(init)\n",
    "    denoising_auto_encoder.set_session(sess)\n",
    "    err = denoising_auto_encoder.fit(Xtrain, epochs=10)\n",
    "    out = denoising_auto_encoder.reconstruct(Xtest[:100])\n",
    "    W1, W2, b1, b2 = denoising_auto_encoder.get_weights()\n",
    "    reduced_X = denoising_auto_encoder.reduced_dimension(Xtrain)"
   ]
  },
  {
   "cell_type": "markdown",
   "metadata": {},
   "source": [
    "5. 重构损失均方误差随网络学习的变化图"
   ]
  },
  {
   "cell_type": "code",
   "execution_count": 6,
   "metadata": {},
   "outputs": [
    {
     "data": {
      "image/png": "[encoded data removed]",
      "text/plain": [
       "<Figure size 1080x288 with 1 Axes>"
      ]
     },
     "metadata": {
      "needs_background": "light"
     },
     "output_type": "display_data"
    }
   ],
   "source": [
    "plt.figure(figsize=(15, 4))\n",
    "plt.plot(err)\n",
    "plt.xlabel('epochs')\n",
    "plt.ylabel('Reconstruction Loss (MSE)')\n",
    "plt.show()"
   ]
  },
  {
   "cell_type": "markdown",
   "metadata": {},
   "source": [
    "6. 当将来自测试数据集中的噪声图像提供给训练好的网络时，可进行图像重构"
   ]
  },
  {
   "cell_type": "code",
   "execution_count": 7,
   "metadata": {},
   "outputs": [
    {
     "data": {
      "image/png": "[encoded data removed]",
      "text/plain": [
       "<Figure size 1440x288 with 20 Axes>"
      ]
     },
     "metadata": {
      "needs_background": "light"
     },
     "output_type": "display_data"
    }
   ],
   "source": [
    "Xtest_noisy = corrupt_img(Xtest).astype(np.float32)\n",
    "row, col = 2, 10\n",
    "idx = np.random.randint(0, 100, row * col // 2)\n",
    "f, axarr = plt.subplots(row, col, sharex=True, sharey=True, figsize=(20, 4))\n",
    "for fig, row in zip([Xtest_noisy, out], axarr):\n",
    "    for i, ax in zip(idx, row):\n",
    "        ax.imshow(fig[i].reshape((28, 28)), cmap='Greys_r')\n",
    "        ax.get_xaxis().set_visible(False)\n",
    "        ax.get_yaxis().set_visible(False)"
   ]
  },
  {
   "cell_type": "code",
   "execution_count": 8,
   "metadata": {},
   "outputs": [
    {
     "data": {
      "text/plain": [
       "((784, 800), (800, 784), (800,), (784,), (55000, 800))"
      ]
     },
     "execution_count": 8,
     "metadata": {},
     "output_type": "execute_result"
    }
   ],
   "source": [
    "W1.shape, W2.shape, b1.shape, b2.shape, reduced_X.shape"
   ]
  },
  {
   "cell_type": "code",
   "execution_count": null,
   "metadata": {},
   "outputs": [],
   "source": []
  }
 ],
 "metadata": {
  "kernelspec": {
   "display_name": "Python 3",
   "language": "python",
   "name": "python3"
  },
  "language_info": {
   "codemirror_mode": {
    "name": "ipython",
    "version": 3
   },
   "file_extension": ".py",
   "mimetype": "text/x-python",
   "name": "python",
   "nbconvert_exporter": "python",
   "pygments_lexer": "ipython3",
   "version": "3.7.1"
  }
 },
 "nbformat": 4,
 "nbformat_minor": 2
}
