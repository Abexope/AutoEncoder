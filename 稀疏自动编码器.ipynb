{
 "cells": [
  {
   "cell_type": "markdown",
   "metadata": {},
   "source": [
    "# 稀疏自动编码器\n",
    "自动编码机更像是一个识别网络，只是简单重构了输入。而重点应是在像素级重构图像，施加的唯一约束是隐藏层单元的数量。  \n",
    "  \n",
    "有趣的是，像素级重构并不能保证网络将从数据集中学习抽象特征，但是可以通过添加更多的约束确保网络从数据集中学习抽象特征。  \n",
    "  \n",
    "稀疏自编码器（又称稀疏自动编码机）中，重构误差中添加了一个稀疏惩罚，用来限定任何时刻的隐藏层中并不是所有单元都被激活。如果 $m$ 是输入模式的总数，那么可以定义一个参数 $\\hat{\\rho}$，用来表示每个隐藏层单元的行为（平均激活多少次）。基本的想法是让约束值 $\\hat{\\rho}$ 等于稀疏参数 ${\\rho}$。具体实现时在原始损失函数中增加表示稀疏性的正则项，损失函数如下：  \n",
    "  \n",
    "  <center>loss = MSE + 系数参数正则项</center>  \n",
    "  \n",
    "如果 $\\hat{\\rho}$ 偏离 ${\\rho}$，那么正则项将惩罚网络，一个常规的实现方法是衡量$\\hat{\\rho}$ 和 ${\\rho}$ 之间的 $KL$ 散度  \n",
    "  \n",
    "<center>$D_{KL}$(${\\rho}$||$\\hat{\\rho}_{j}$) = \n",
    "${\\rho}$$\\log$$\\frac{{\\rho}}{\\hat{\\rho}_{j}}$ + \n",
    "(1 - ${\\rho}$)$\\log$$\\frac{1 - {\\rho}}{1 - \\hat{\\rho}_{j}}$</center>\n",
    "  \n",
    "$KL$ 散度是衡量两个分布之间差异的非对称度量，本节中，两个分布是 ${\\rho}$ 和 $\\hat{\\rho}$。当 ${\\rho}$ 和 $\\hat{\\rho}$ 相等时，$KL$ 散度是零，否则会随着两者差异的增大而单调增加\n",
    "  \n",
    "下面是 ${\\rho}$ = 0.3 时的 $KL$ 的散度 $D_{KL}$ 的变化图，从图中可以看到，当 $\\hat{\\rho}$ = 0.3时，$D_{KL}$ = 0；而在 0.3 两侧都会单调递增\n",
    "  \n",
    "![$D_{KL}$散度变化](2-1Z11116400Q10.png)"
   ]
  },
  {
   "cell_type": "markdown",
   "metadata": {},
   "source": [
    "## 实例：利用MNIST数据集训练稀疏自动编码器，并使用它重构测试图像"
   ]
  },
  {
   "cell_type": "markdown",
   "metadata": {},
   "source": [
    "1. 导入模块"
   ]
  },
  {
   "cell_type": "code",
   "execution_count": 1,
   "metadata": {},
   "outputs": [],
   "source": [
    "import tensorflow as tf\n",
    "import numpy as np\n",
    "from tensorflow.examples.tutorials.mnist import input_data\n",
    "import matplotlib.pyplot as plt\n",
    "%matplotlib inline"
   ]
  },
  {
   "cell_type": "markdown",
   "metadata": {},
   "source": [
    "2. 从 TensorFlow 示例加载 MNIST 数据集"
   ]
  },
  {
   "cell_type": "code",
   "execution_count": 2,
   "metadata": {
    "collapsed": true
   },
   "outputs": [
    {
     "name": "stdout",
     "output_type": "stream",
     "text": [
      "WARNING:tensorflow:From <ipython-input-2-618565c425aa>:1: read_data_sets (from tensorflow.contrib.learn.python.learn.datasets.mnist) is deprecated and will be removed in a future version.\n",
      "Instructions for updating:\n",
      "Please use alternatives such as official/mnist/dataset.py from tensorflow/models.\n",
      "WARNING:tensorflow:From D:\\ProgramFiles\\Anaconda3\\lib\\site-packages\\tensorflow\\contrib\\learn\\python\\learn\\datasets\\mnist.py:260: maybe_download (from tensorflow.contrib.learn.python.learn.datasets.base) is deprecated and will be removed in a future version.\n",
      "Instructions for updating:\n",
      "Please write your own downloading logic.\n",
      "WARNING:tensorflow:From D:\\ProgramFiles\\Anaconda3\\lib\\site-packages\\tensorflow\\contrib\\learn\\python\\learn\\datasets\\mnist.py:262: extract_images (from tensorflow.contrib.learn.python.learn.datasets.mnist) is deprecated and will be removed in a future version.\n",
      "Instructions for updating:\n",
      "Please use tf.data to implement this functionality.\n",
      "Extracting MNIST_data\\train-images-idx3-ubyte.gz\n",
      "WARNING:tensorflow:From D:\\ProgramFiles\\Anaconda3\\lib\\site-packages\\tensorflow\\contrib\\learn\\python\\learn\\datasets\\mnist.py:267: extract_labels (from tensorflow.contrib.learn.python.learn.datasets.mnist) is deprecated and will be removed in a future version.\n",
      "Instructions for updating:\n",
      "Please use tf.data to implement this functionality.\n",
      "Extracting MNIST_data\\train-labels-idx1-ubyte.gz\n",
      "Extracting MNIST_data\\t10k-images-idx3-ubyte.gz\n",
      "Extracting MNIST_data\\t10k-labels-idx1-ubyte.gz\n",
      "WARNING:tensorflow:From D:\\ProgramFiles\\Anaconda3\\lib\\site-packages\\tensorflow\\contrib\\learn\\python\\learn\\datasets\\mnist.py:290: DataSet.__init__ (from tensorflow.contrib.learn.python.learn.datasets.mnist) is deprecated and will be removed in a future version.\n",
      "Instructions for updating:\n",
      "Please use alternatives such as official/mnist/dataset.py from tensorflow/models.\n"
     ]
    }
   ],
   "source": [
    "mnist = input_data.read_data_sets('MNIST_data')\n",
    "trX, trY, teX, teY = mnist.train.images, mnist.train.labels, mnist.test.images, mnist.test.labels"
   ]
  },
  {
   "cell_type": "markdown",
   "metadata": {},
   "source": [
    "3. 定义SparseAutoEncoder类，除引入 $KL$ 散度之外，它与AutoEncoder类非常相似"
   ]
  },
  {
   "cell_type": "code",
   "execution_count": 3,
   "metadata": {},
   "outputs": [],
   "source": [
    "class SparseAutoEncoder:\n",
    "    \"\"\"稀疏自动编码器\"\"\"\n",
    "    \n",
    "    def __init__(self, m, n, eta=0.01):\n",
    "        \"\"\"\n",
    "        m：输入输出层神经元数\n",
    "        n：隐藏层神经元数\n",
    "        \"\"\"\n",
    "        self._m = m\n",
    "        self._n = n\n",
    "        self.learning_rate = eta\n",
    "        self.session = None\n",
    "        \n",
    "        # 构建计算图\n",
    "        \n",
    "        # 权重与偏置\n",
    "        self._W1 = tf.Variable(tf.random_normal(shape=(self._m, self._n)))\n",
    "        self._W2 = tf.Variable(tf.random_normal(shape=(self._n, self._m)))\n",
    "        self._b1 = tf.Variable(np.zeros(self._n).astype(np.float32))    # 隐藏层偏置\n",
    "        self._b2 = tf.Variable(np.zeros(self._m).astype(np.float32))    # 输出层偏置\n",
    "        \n",
    "        # 输入层占位符\n",
    "        self._X = tf.placeholder('float', shape=[None, self._m])\n",
    "        \n",
    "        # 编码器\n",
    "        self.y = self.encoder(self._X)\n",
    "        \n",
    "        # 解码器\n",
    "        self.r = self.decoder(self.y)\n",
    "        \n",
    "        # 解码误差\n",
    "        error = self._X - self.r\n",
    "        \n",
    "        # 损失函数\n",
    "        self._loss = tf.reduce_mean(tf.pow(error, 2))   # MSE\n",
    "        alpha = 7.5e-5\n",
    "        kl_div_loss = tf.reduce_sum(self.kl_div(0.02, tf.reduce_mean(self.y, 0)))   # 由KL散度定义的稀疏参数正则项\n",
    "        loss = self._loss + alpha * kl_div_loss   # MSE + 系数参数正则项\n",
    "        \n",
    "        # 优化算法\n",
    "        self._opt = tf.train.AdamOptimizer(self.learning_rate).minimize(loss)\n",
    "        \n",
    "    def logfunc(self, x1, x2):\n",
    "        \"\"\"对数运算\"\"\"\n",
    "        return tf.multiply(x1, tf.log(tf.div(x1, x2)))\n",
    "    \n",
    "    def kl_div(self, rho, rho_hat):\n",
    "        \"\"\"计算KL散度\"\"\"\n",
    "        term2_num = tf.constant(1.) - rho\n",
    "        term2_den = tf.constant(1.) - rho_hat\n",
    "        kl = self.logfunc(rho, rho_hat) + self.logfunc(term2_num, term2_den)\n",
    "        return kl\n",
    "        \n",
    "    def encoder(self, x):\n",
    "        \"\"\"编码器\"\"\"\n",
    "        h = tf.matmul(x, self._W1) + self._b1\n",
    "        return tf.nn.sigmoid(h)\n",
    "    \n",
    "    def decoder(self, x):\n",
    "        \"\"\"解码器\"\"\"\n",
    "        h = tf.matmul(x, self._W2) + self._b2\n",
    "        return tf.nn.sigmoid(h)\n",
    "    \n",
    "    def set_session(self, session):\n",
    "        \"\"\"开启会话\"\"\"\n",
    "        self.session = session\n",
    "        \n",
    "    def reduced_dimension(self, x):\n",
    "        \"\"\"降维\"\"\"\n",
    "        h = self.encoder(x)\n",
    "        return self.session.run(h, feed_dict={self._X: x})\n",
    "    \n",
    "    def reconstruct(self, x):\n",
    "        \"\"\"重构\"\"\"\n",
    "        h = self.encoder(x)\n",
    "        r = self.decoder(h)\n",
    "        return self.session.run(r, feed_dict={self._X: x})\n",
    "    \n",
    "    def fit(self, X, epochs=1, batch_size=100):\n",
    "        \"\"\"训练\"\"\"\n",
    "        N, D = X.shape\n",
    "        num_batches = N // batch_size\n",
    "        obj = []\n",
    "        for i in range(epochs):\n",
    "            for j in range(num_batches):\n",
    "                batch = X[j * batch_size: (j * batch_size + batch_size)]\n",
    "                _, ob = self.session.run(\n",
    "                    [self._opt, self._loss],\n",
    "                    feed_dict={self._X: batch}\n",
    "                )\n",
    "                if j % 100 == 0 and i % 100:\n",
    "                    print('training epoch {0} batch {2} cost {1}'.format(i, ob, j))\n",
    "                obj.append(ob)\n",
    "        return obj"
   ]
  },
  {
   "cell_type": "markdown",
   "metadata": {},
   "source": [
    "4. 实例化 SparseAutoEncoder 类对象，调用 fit() 方法训练，然后计算重构的图像"
   ]
  },
  {
   "cell_type": "code",
   "execution_count": 5,
   "metadata": {
    "scrolled": false
   },
   "outputs": [
    {
     "name": "stdout",
     "output_type": "stream",
     "text": [
      "training epoch 1 batch 0 cost 0.022769542410969734\n",
      "training epoch 1 batch 100 cost 0.019623976200819016\n",
      "training epoch 1 batch 200 cost 0.018336903303861618\n",
      "training epoch 1 batch 300 cost 0.017890354618430138\n",
      "training epoch 1 batch 400 cost 0.016512297093868256\n",
      "training epoch 1 batch 500 cost 0.01673797331750393\n",
      "training epoch 2 batch 0 cost 0.015215824358165264\n",
      "training epoch 2 batch 100 cost 0.013640092685818672\n",
      "training epoch 2 batch 200 cost 0.013303242623806\n",
      "training epoch 2 batch 300 cost 0.013452722690999508\n",
      "training epoch 2 batch 400 cost 0.01259921956807375\n",
      "training epoch 2 batch 500 cost 0.012764976359903812\n",
      "training epoch 3 batch 0 cost 0.011628209613263607\n",
      "training epoch 3 batch 100 cost 0.010353242047131062\n",
      "training epoch 3 batch 200 cost 0.010234473273158073\n",
      "training epoch 3 batch 300 cost 0.01082268264144659\n",
      "training epoch 3 batch 400 cost 0.010119963437318802\n",
      "training epoch 3 batch 500 cost 0.01041246484965086\n",
      "training epoch 4 batch 0 cost 0.009589564986526966\n",
      "training epoch 4 batch 100 cost 0.008894193917512894\n",
      "training epoch 4 batch 200 cost 0.008752030320465565\n",
      "training epoch 4 batch 300 cost 0.009063231758773327\n",
      "training epoch 4 batch 400 cost 0.008754509501159191\n",
      "training epoch 4 batch 500 cost 0.009128452278673649\n",
      "training epoch 5 batch 0 cost 0.008310903795063496\n",
      "training epoch 5 batch 100 cost 0.007897447794675827\n",
      "training epoch 5 batch 200 cost 0.007612310349941254\n",
      "training epoch 5 batch 300 cost 0.007975817658007145\n",
      "training epoch 5 batch 400 cost 0.007790819276124239\n",
      "training epoch 5 batch 500 cost 0.00828331895172596\n",
      "training epoch 6 batch 0 cost 0.007527821697294712\n",
      "training epoch 6 batch 100 cost 0.007233315147459507\n",
      "training epoch 6 batch 200 cost 0.00712877232581377\n",
      "training epoch 6 batch 300 cost 0.0074556740000844\n",
      "training epoch 6 batch 400 cost 0.007191530894488096\n",
      "training epoch 6 batch 500 cost 0.007624365389347076\n",
      "training epoch 7 batch 0 cost 0.006832217797636986\n",
      "training epoch 7 batch 100 cost 0.006609573494642973\n",
      "training epoch 7 batch 200 cost 0.006439502816647291\n",
      "training epoch 7 batch 300 cost 0.006819442380219698\n",
      "training epoch 7 batch 400 cost 0.006496213376522064\n",
      "training epoch 7 batch 500 cost 0.006913632154464722\n",
      "training epoch 8 batch 0 cost 0.006376141216605902\n",
      "training epoch 8 batch 100 cost 0.006213197484612465\n",
      "training epoch 8 batch 200 cost 0.00595142412930727\n",
      "training epoch 8 batch 300 cost 0.006460257340222597\n",
      "training epoch 8 batch 400 cost 0.005950259044766426\n",
      "training epoch 8 batch 500 cost 0.006318589672446251\n",
      "training epoch 9 batch 0 cost 0.006076089572161436\n",
      "training epoch 9 batch 100 cost 0.005804924294352531\n",
      "training epoch 9 batch 200 cost 0.005552446469664574\n",
      "training epoch 9 batch 300 cost 0.005922989919781685\n",
      "training epoch 9 batch 400 cost 0.0055058179423213005\n",
      "training epoch 9 batch 500 cost 0.005804704036563635\n"
     ]
    }
   ],
   "source": [
    "Xtrain = trX.astype(np.float32)\n",
    "Xtest = teX.astype(np.float32)\n",
    "_, m = Xtrain.shape\n",
    "\n",
    "sparse_auto_encoder = SparseAutoEncoder(m, 256)\n",
    "\n",
    "# 变量初始化\n",
    "init = tf.global_variables_initializer()\n",
    "with tf.Session() as sess:\n",
    "    sess.run(init)\n",
    "    sparse_auto_encoder.set_session(sess)\n",
    "    err = sparse_auto_encoder.fit(Xtrain, epochs=10)\n",
    "    out = sparse_auto_encoder.reconstruct(Xtest[:100])\n",
    "    reduced_X = sparse_auto_encoder.reduced_dimension(Xtrain)\n",
    "    "
   ]
  },
  {
   "cell_type": "markdown",
   "metadata": {},
   "source": [
    "5. 重构损失均方误差随网络学习的变化图"
   ]
  },
  {
   "cell_type": "code",
   "execution_count": 6,
   "metadata": {},
   "outputs": [
    {
     "data": {
      "image/png": "[encoded data removed]",
      "text/plain": [
       "<Figure size 1080x288 with 1 Axes>"
      ]
     },
     "metadata": {
      "needs_background": "light"
     },
     "output_type": "display_data"
    }
   ],
   "source": [
    "plt.figure(figsize=(15, 4))\n",
    "plt.plot(err)\n",
    "plt.xlabel('epochs')\n",
    "plt.ylabel('Reconstruction Loss (MSE)')\n",
    "plt.show()"
   ]
  },
  {
   "cell_type": "markdown",
   "metadata": {},
   "source": [
    "6. 查看重构图像"
   ]
  },
  {
   "cell_type": "code",
   "execution_count": 7,
   "metadata": {},
   "outputs": [
    {
     "data": {
      "image/png": "[encoded data removed]",
      "text/plain": [
       "<Figure size 1440x288 with 20 Axes>"
      ]
     },
     "metadata": {
      "needs_background": "light"
     },
     "output_type": "display_data"
    }
   ],
   "source": [
    "row, col = 2, 10\n",
    "idx = np.random.randint(0, 100, row * col // 2)\n",
    "f, axarr = plt.subplots(row, col, sharex=True, sharey=True, figsize=(20, 4))\n",
    "for fig, row in zip([Xtest, out], axarr):\n",
    "    for i, ax in zip(idx, row):\n",
    "        ax.imshow(fig[i].reshape((28, 28)), cmap='Greys_r')\n",
    "        ax.get_xaxis().set_visible(False)\n",
    "        ax.get_yaxis().set_visible(False)"
   ]
  },
  {
   "cell_type": "code",
   "execution_count": 8,
   "metadata": {},
   "outputs": [
    {
     "data": {
      "text/plain": [
       "array([[1.5912595e-01, 0.0000000e+00, 6.7457974e-02, ..., 3.1582117e-03,\n",
       "        5.9604645e-08, 3.1768084e-03],\n",
       "       [4.7287157e-01, 5.6150556e-04, 3.7071109e-04, ..., 1.4603138e-06,\n",
       "        7.6293945e-06, 1.4901161e-07],\n",
       "       [3.2122952e-01, 5.9306622e-06, 2.4676323e-05, ..., 2.4324656e-04,\n",
       "        2.8181076e-04, 1.7881393e-06],\n",
       "       ...,\n",
       "       [1.0608700e-01, 2.1725893e-04, 3.1282395e-02, ..., 6.7442656e-05,\n",
       "        5.1607221e-02, 9.3176961e-04],\n",
       "       [3.2670200e-03, 2.4616718e-05, 4.5520961e-03, ..., 4.5509309e-02,\n",
       "        7.1075559e-04, 9.9842846e-01],\n",
       "       [2.8682441e-01, 3.3140182e-05, 7.6416594e-01, ..., 9.9897385e-05,\n",
       "        1.1328921e-01, 1.4273524e-03]], dtype=float32)"
      ]
     },
     "execution_count": 8,
     "metadata": {},
     "output_type": "execute_result"
    }
   ],
   "source": [
    "reduced_X"
   ]
  },
  {
   "cell_type": "code",
   "execution_count": 9,
   "metadata": {},
   "outputs": [
    {
     "data": {
      "text/plain": [
       "(55000, 256)"
      ]
     },
     "execution_count": 9,
     "metadata": {},
     "output_type": "execute_result"
    }
   ],
   "source": [
    "reduced_X.shape"
   ]
  },
  {
   "cell_type": "code",
   "execution_count": null,
   "metadata": {},
   "outputs": [],
   "source": []
  }
 ],
 "metadata": {
  "kernelspec": {
   "display_name": "Python 3",
   "language": "python",
   "name": "python3"
  },
  "language_info": {
   "codemirror_mode": {
    "name": "ipython",
    "version": 3
   },
   "file_extension": ".py",
   "mimetype": "text/x-python",
   "name": "python",
   "nbconvert_exporter": "python",
   "pygments_lexer": "ipython3",
   "version": "3.7.1"
  }
 },
 "nbformat": 4,
 "nbformat_minor": 2
}
