{
 "cells": [
  {
   "cell_type": "markdown",
   "metadata": {},
   "source": [
    "# 标准自动编码器\n",
    "由 Hinton 提出的标准自动编码机（标准自编码器）只有一个隐藏层，隐藏层中神经元的数量少于输入（和输出）层中神经元的数量，这会压缩网络中的信息，因此可以将隐藏层看作是一个压缩层，限定保留的信息。"
   ]
  },
  {
   "cell_type": "markdown",
   "metadata": {},
   "source": [
    "自动编码机的学习包括在隐藏层上对输入信号进行压缩表示，然后在输出层尽可能地复现原始输入：  \n",
    "![标准自编码器](2-1Z11115591U54.png)"
   ]
  },
  {
   "cell_type": "markdown",
   "metadata": {},
   "source": [
    "## 实例：利用 MNIST 数据训练自动编码器，并使用它来重构测试图像"
   ]
  },
  {
   "cell_type": "markdown",
   "metadata": {},
   "source": [
    "1. 导入模块"
   ]
  },
  {
   "cell_type": "code",
   "execution_count": 1,
   "metadata": {},
   "outputs": [],
   "source": [
    "import tensorflow as tf\n",
    "import numpy as np\n",
    "from tensorflow.examples.tutorials.mnist import input_data\n",
    "import matplotlib.pyplot as plt\n",
    "%matplotlib inline"
   ]
  },
  {
   "cell_type": "markdown",
   "metadata": {},
   "source": [
    "2. 从 TensorFlow 中获取 MNIST 数据  \n",
    "`注意：自动编码机是通过无监督学习进行训练，因此没有使用标签来训练网络。`"
   ]
  },
  {
   "cell_type": "code",
   "execution_count": 2,
   "metadata": {
    "collapsed": true
   },
   "outputs": [
    {
     "name": "stdout",
     "output_type": "stream",
     "text": [
      "WARNING:tensorflow:From <ipython-input-2-618565c425aa>:1: read_data_sets (from tensorflow.contrib.learn.python.learn.datasets.mnist) is deprecated and will be removed in a future version.\n",
      "Instructions for updating:\n",
      "Please use alternatives such as official/mnist/dataset.py from tensorflow/models.\n",
      "WARNING:tensorflow:From D:\\ProgramFiles\\Anaconda3\\lib\\site-packages\\tensorflow\\contrib\\learn\\python\\learn\\datasets\\mnist.py:260: maybe_download (from tensorflow.contrib.learn.python.learn.datasets.base) is deprecated and will be removed in a future version.\n",
      "Instructions for updating:\n",
      "Please write your own downloading logic.\n",
      "WARNING:tensorflow:From D:\\ProgramFiles\\Anaconda3\\lib\\site-packages\\tensorflow\\contrib\\learn\\python\\learn\\datasets\\mnist.py:262: extract_images (from tensorflow.contrib.learn.python.learn.datasets.mnist) is deprecated and will be removed in a future version.\n",
      "Instructions for updating:\n",
      "Please use tf.data to implement this functionality.\n",
      "Extracting MNIST_data\\train-images-idx3-ubyte.gz\n",
      "WARNING:tensorflow:From D:\\ProgramFiles\\Anaconda3\\lib\\site-packages\\tensorflow\\contrib\\learn\\python\\learn\\datasets\\mnist.py:267: extract_labels (from tensorflow.contrib.learn.python.learn.datasets.mnist) is deprecated and will be removed in a future version.\n",
      "Instructions for updating:\n",
      "Please use tf.data to implement this functionality.\n",
      "Extracting MNIST_data\\train-labels-idx1-ubyte.gz\n",
      "Extracting MNIST_data\\t10k-images-idx3-ubyte.gz\n",
      "Extracting MNIST_data\\t10k-labels-idx1-ubyte.gz\n",
      "WARNING:tensorflow:From D:\\ProgramFiles\\Anaconda3\\lib\\site-packages\\tensorflow\\contrib\\learn\\python\\learn\\datasets\\mnist.py:290: DataSet.__init__ (from tensorflow.contrib.learn.python.learn.datasets.mnist) is deprecated and will be removed in a future version.\n",
      "Instructions for updating:\n",
      "Please use alternatives such as official/mnist/dataset.py from tensorflow/models.\n"
     ]
    }
   ],
   "source": [
    "mnist = input_data.read_data_sets('MNIST_data')\n",
    "trX, trY, teX, teY = mnist.train.images, mnist.train.labels, mnist.test.images, mnist.test.labels"
   ]
  },
  {
   "cell_type": "markdown",
   "metadata": {},
   "source": [
    "3. 声明 AutoEncoder 类  \n",
    "`使用 init 方法初始化自动编码机的权重、偏置和占位符，也可以在 init 方法中构建全部的计算图。  \n",
    " 还需要定义编码器、解码器，set_session（会话建立）和 fit 方法。  \n",
    " 此处构建的自动编码机使用简单的均方误差作为损失函数  \n",
    " 使用 AdamOptimizer 进行优化\n",
    " `"
   ]
  },
  {
   "cell_type": "code",
   "execution_count": 3,
   "metadata": {},
   "outputs": [],
   "source": [
    "class AutoEncoder:\n",
    "    \"\"\"标准自动编码器\"\"\"\n",
    "    \n",
    "    def __init__(self, m, n, eta=0.01):\n",
    "        \"\"\"\n",
    "        m：输入输出层神经元数\n",
    "        n：隐藏层神经元数\n",
    "        \"\"\"\n",
    "        self._m = m\n",
    "        self._n = n\n",
    "        self.learning_rate = eta\n",
    "        self.session = None\n",
    "        \n",
    "        # 构建计算图\n",
    "        \n",
    "        # 权重与偏置\n",
    "        self._W1 = tf.Variable(tf.random_normal(shape=(self._m, self._n)))\n",
    "        self._W2 = tf.Variable(tf.random_normal(shape=(self._n, self._m)))\n",
    "        self._b1 = tf.Variable(np.zeros(self._n).astype(np.float32))    # 隐藏层偏置\n",
    "        self._b2 = tf.Variable(np.zeros(self._m).astype(np.float32))    # 输出层偏置\n",
    "        \n",
    "        # 输入层占位符\n",
    "        self._X = tf.placeholder('float', shape=[None, self._m])\n",
    "        \n",
    "        # 编码器\n",
    "        self.y = self.encoder(self._X)\n",
    "        \n",
    "        # 解码器\n",
    "        self.r = self.decoder(self.y)\n",
    "        \n",
    "        # 解码误差\n",
    "        error = self._X - self.r\n",
    "        \n",
    "        # 损失函数\n",
    "        self._loss = tf.reduce_mean(tf.pow(error, 2))   # MSE\n",
    "        \n",
    "        # 优化算法\n",
    "        self._opt = tf.train.AdamOptimizer(self.learning_rate).minimize(self._loss)\n",
    "    \n",
    "    def encoder(self, x):\n",
    "        \"\"\"编码器\"\"\"\n",
    "        h = tf.matmul(x, self._W1) + self._b1\n",
    "        return tf.nn.sigmoid(h)\n",
    "    \n",
    "    def decoder(self, x):\n",
    "        \"\"\"解码器\"\"\"\n",
    "        h = tf.matmul(x, self._W2) + self._b2\n",
    "        return tf.nn.sigmoid(h)\n",
    "    \n",
    "    def set_session(self, session):\n",
    "        \"\"\"开启会话\"\"\"\n",
    "        self.session = session\n",
    "        \n",
    "    def reduced_dimension(self, x):\n",
    "        \"\"\"降维\"\"\"\n",
    "        h = self.encoder(x)\n",
    "        return self.session.run(h, feed_dict={self._X: x})\n",
    "    \n",
    "    def reconstruct(self, x):\n",
    "        \"\"\"重构\"\"\"\n",
    "        h = self.encoder(x)\n",
    "        r = self.decoder(h)\n",
    "        return self.session.run(r, feed_dict={self._X: x})\n",
    "    \n",
    "    def fit(self, X, epochs=1, batch_size=100):\n",
    "        \"\"\"训练\"\"\"\n",
    "        N, D = X.shape\n",
    "        num_batches = N // batch_size\n",
    "        obj = []\n",
    "        for i in range(epochs):\n",
    "            for j in range(num_batches):\n",
    "                batch = X[j * batch_size: (j * batch_size + batch_size)]\n",
    "                _, ob = self.session.run(\n",
    "                    [self._opt, self._loss],\n",
    "                    feed_dict={self._X: batch}\n",
    "                )\n",
    "                if j % 100 == 0 and i % 100:\n",
    "                    print('training epoch {0} batch {2} cost {1}'.format(i, ob, j))\n",
    "                obj.append(ob)\n",
    "        return obj"
   ]
  },
  {
   "cell_type": "markdown",
   "metadata": {},
   "source": [
    "`为便于使用，此处还定义了两个辅助函数，reduced_dimension 给出编码器网络的输出，reconstruct 给出重构的测试图像的输出。`"
   ]
  },
  {
   "cell_type": "markdown",
   "metadata": {},
   "source": [
    "4. 训练时将输入数据转换为 float 型，初始化所有变量并运行会话。在计算时，测试自动编码机的重构能力"
   ]
  },
  {
   "cell_type": "code",
   "execution_count": 4,
   "metadata": {},
   "outputs": [
    {
     "name": "stdout",
     "output_type": "stream",
     "text": [
      "WARNING:tensorflow:From D:\\ProgramFiles\\Anaconda3\\lib\\site-packages\\tensorflow\\python\\framework\\op_def_library.py:263: colocate_with (from tensorflow.python.framework.ops) is deprecated and will be removed in a future version.\n",
      "Instructions for updating:\n",
      "Colocations handled automatically by placer.\n",
      "training epoch 1 batch 0 cost 0.05110756307840347\n",
      "training epoch 1 batch 100 cost 0.0439513623714447\n",
      "training epoch 1 batch 200 cost 0.043250516057014465\n",
      "training epoch 1 batch 300 cost 0.04521690681576729\n",
      "training epoch 1 batch 400 cost 0.04120133817195892\n",
      "training epoch 1 batch 500 cost 0.043769001960754395\n",
      "training epoch 2 batch 0 cost 0.04310230538249016\n",
      "training epoch 2 batch 100 cost 0.0376976914703846\n",
      "training epoch 2 batch 200 cost 0.037839263677597046\n",
      "training epoch 2 batch 300 cost 0.040796972811222076\n",
      "training epoch 2 batch 400 cost 0.03818133845925331\n",
      "training epoch 2 batch 500 cost 0.04142695292830467\n",
      "training epoch 3 batch 0 cost 0.040615975856781006\n",
      "training epoch 3 batch 100 cost 0.03574133291840553\n",
      "training epoch 3 batch 200 cost 0.03625974431633949\n",
      "training epoch 3 batch 300 cost 0.03895460441708565\n",
      "training epoch 3 batch 400 cost 0.03667350113391876\n",
      "training epoch 3 batch 500 cost 0.03966335579752922\n",
      "training epoch 4 batch 0 cost 0.038742806762456894\n",
      "training epoch 4 batch 100 cost 0.03404776379466057\n",
      "training epoch 4 batch 200 cost 0.03465015068650246\n",
      "training epoch 4 batch 300 cost 0.037024181336164474\n",
      "training epoch 4 batch 400 cost 0.03482814133167267\n",
      "training epoch 4 batch 500 cost 0.038400597870349884\n",
      "training epoch 5 batch 0 cost 0.03768862038850784\n",
      "training epoch 5 batch 100 cost 0.03286729380488396\n",
      "training epoch 5 batch 200 cost 0.03358946368098259\n",
      "training epoch 5 batch 300 cost 0.03622613474726677\n",
      "training epoch 5 batch 400 cost 0.034296318888664246\n",
      "training epoch 5 batch 500 cost 0.03774159029126167\n",
      "training epoch 6 batch 0 cost 0.037170328199863434\n",
      "training epoch 6 batch 100 cost 0.0323830172419548\n",
      "training epoch 6 batch 200 cost 0.03304169327020645\n",
      "training epoch 6 batch 300 cost 0.03577004745602608\n",
      "training epoch 6 batch 400 cost 0.03392231464385986\n",
      "training epoch 6 batch 500 cost 0.03727316856384277\n",
      "training epoch 7 batch 0 cost 0.036748819053173065\n",
      "training epoch 7 batch 100 cost 0.0317605584859848\n",
      "training epoch 7 batch 200 cost 0.032246947288513184\n",
      "training epoch 7 batch 300 cost 0.03446104750037193\n",
      "training epoch 7 batch 400 cost 0.03278050571680069\n",
      "training epoch 7 batch 500 cost 0.03624394163489342\n",
      "training epoch 8 batch 0 cost 0.035370152443647385\n",
      "training epoch 8 batch 100 cost 0.030723029747605324\n",
      "training epoch 8 batch 200 cost 0.03138384968042374\n",
      "training epoch 8 batch 300 cost 0.033509884029626846\n",
      "training epoch 8 batch 400 cost 0.03214371204376221\n",
      "training epoch 8 batch 500 cost 0.03555481135845184\n",
      "training epoch 9 batch 0 cost 0.03478949889540672\n",
      "training epoch 9 batch 100 cost 0.030392035841941833\n",
      "training epoch 9 batch 200 cost 0.03106694482266903\n",
      "training epoch 9 batch 300 cost 0.03316571190953255\n",
      "training epoch 9 batch 400 cost 0.03194394335150719\n",
      "training epoch 9 batch 500 cost 0.03533630445599556\n"
     ]
    }
   ],
   "source": [
    "Xtrain = trX.astype(np.float32)\n",
    "Xtest = teX.astype(np.float32)\n",
    "_, m = Xtrain.shape\n",
    "\n",
    "auto_encoder = AutoEncoder(m, 256)   # 实例化自编码器\n",
    "\n",
    "# 变量初始化\n",
    "init = tf.global_variables_initializer()\n",
    "with tf.Session() as sess:\n",
    "    sess.run(init)\n",
    "    auto_encoder.set_session(sess)\n",
    "    err = auto_encoder.fit(Xtrain, epochs=10)\n",
    "    out = auto_encoder.reconstruct(Xtest[:100])"
   ]
  },
  {
   "cell_type": "markdown",
   "metadata": {},
   "source": [
    "5. 绘制误差在训练周期中的变化图，验证网络的均方误差在训练时是否得到优化，对于一个好的训练，误差应该随着训练周期的增加而减少"
   ]
  },
  {
   "cell_type": "code",
   "execution_count": 5,
   "metadata": {},
   "outputs": [
    {
     "data": {
      "image/png": "[encoded data removed]",
      "text/plain": [
       "<Figure size 1080x288 with 1 Axes>"
      ]
     },
     "metadata": {
      "needs_background": "light"
     },
     "output_type": "display_data"
    }
   ],
   "source": [
    "plt.figure(figsize=(15, 4))\n",
    "plt.plot(err)\n",
    "plt.xlabel('epochs')\n",
    "plt.ylabel('cost')\n",
    "plt.show()"
   ]
  },
  {
   "cell_type": "markdown",
   "metadata": {},
   "source": [
    "`可以看到，随着网络的学习，损失/成本是下降的，当训练周期达到 5000 时，几乎是在一条线上振荡，这意味着进一步增加训练周期将不再有用。如果现在还想要改进模型，应该调整学习率、批量大小和优化器等超参数。`"
   ]
  },
  {
   "cell_type": "markdown",
   "metadata": {},
   "source": [
    "6. 观察重构的图像，对比原始图像和自动编码机生成的重构图像"
   ]
  },
  {
   "cell_type": "code",
   "execution_count": 6,
   "metadata": {},
   "outputs": [
    {
     "data": {
      "image/png": "[encoded data removed]",
      "text/plain": [
       "<Figure size 1440x288 with 20 Axes>"
      ]
     },
     "metadata": {
      "needs_background": "light"
     },
     "output_type": "display_data"
    }
   ],
   "source": [
    "row, col = 2, 10\n",
    "idx = np.random.randint(0, 100, row * col // 2)\n",
    "f, axarr = plt.subplots(row, col, sharex=True, sharey=True, figsize=(20, 4))\n",
    "for fig, row in zip([Xtest, out], axarr):\n",
    "    for i, ax in zip(idx, row):\n",
    "        ax.imshow(fig[i].reshape((28, 28)), cmap='Greys_r')\n",
    "        ax.get_xaxis().set_visible(False)\n",
    "        ax.get_yaxis().set_visible(False)"
   ]
  }
 ],
 "metadata": {
  "kernelspec": {
   "display_name": "Python 3",
   "language": "python",
   "name": "python3"
  },
  "language_info": {
   "codemirror_mode": {
    "name": "ipython",
    "version": 3
   },
   "file_extension": ".py",
   "mimetype": "text/x-python",
   "name": "python",
   "nbconvert_exporter": "python",
   "pygments_lexer": "ipython3",
   "version": "3.7.1"
  }
 },
 "nbformat": 4,
 "nbformat_minor": 2
}
