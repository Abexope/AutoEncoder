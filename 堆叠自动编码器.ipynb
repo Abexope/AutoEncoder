{
 "cells": [
  {
   "cell_type": "markdown",
   "metadata": {},
   "source": [
    "# 堆叠自动编码器\n",
    "编码器和解码器网络也可能有多层，使用更深的编码器和解码器网络可以使自编码器表示更复杂的特征，将一个编码器提取的特征作为输入传递到下一个编码器，这种结构被称为堆叠自编码器（或者深度自编码器）。\n",
    "\n",
    "堆叠自编码器可以作为一个网络进行训练，训练目标是最小化重构误差；也可以首先使用之前学习的无监督方法对每个编码器/解码器网络进行预训练，然后对整个网络进行微调。有人指出，通过预训练（逐层贪婪训练），效果会更好。\n",
    "\n",
    "使用逐层贪婪方法来训练堆叠自编码器，为了降低训练难度，这里使用共享权重，因此相应的编码器/解码器权重将是彼此的转置。"
   ]
  },
  {
   "cell_type": "markdown",
   "metadata": {},
   "source": [
    "## 实例：利用 MNIST 数据训练堆叠编码器，并使用它来重构测试图像"
   ]
  },
  {
   "cell_type": "markdown",
   "metadata": {},
   "source": [
    "1. 导入模块"
   ]
  },
  {
   "cell_type": "code",
   "execution_count": 1,
   "metadata": {},
   "outputs": [],
   "source": [
    "import tensorflow as tf\n",
    "import numpy as np\n",
    "from tensorflow.examples.tutorials.mnist import input_data\n",
    "import matplotlib.pyplot as plt\n",
    "%matplotlib inline"
   ]
  },
  {
   "cell_type": "markdown",
   "metadata": {},
   "source": [
    "2. 加载数据集"
   ]
  },
  {
   "cell_type": "code",
   "execution_count": 2,
   "metadata": {
    "collapsed": true
   },
   "outputs": [
    {
     "name": "stdout",
     "output_type": "stream",
     "text": [
      "WARNING:tensorflow:From <ipython-input-2-618565c425aa>:1: read_data_sets (from tensorflow.contrib.learn.python.learn.datasets.mnist) is deprecated and will be removed in a future version.\n",
      "Instructions for updating:\n",
      "Please use alternatives such as official/mnist/dataset.py from tensorflow/models.\n",
      "WARNING:tensorflow:From D:\\ProgramFiles\\Anaconda3\\lib\\site-packages\\tensorflow\\contrib\\learn\\python\\learn\\datasets\\mnist.py:260: maybe_download (from tensorflow.contrib.learn.python.learn.datasets.base) is deprecated and will be removed in a future version.\n",
      "Instructions for updating:\n",
      "Please write your own downloading logic.\n",
      "WARNING:tensorflow:From D:\\ProgramFiles\\Anaconda3\\lib\\site-packages\\tensorflow\\contrib\\learn\\python\\learn\\datasets\\mnist.py:262: extract_images (from tensorflow.contrib.learn.python.learn.datasets.mnist) is deprecated and will be removed in a future version.\n",
      "Instructions for updating:\n",
      "Please use tf.data to implement this functionality.\n",
      "Extracting MNIST_data\\train-images-idx3-ubyte.gz\n",
      "WARNING:tensorflow:From D:\\ProgramFiles\\Anaconda3\\lib\\site-packages\\tensorflow\\contrib\\learn\\python\\learn\\datasets\\mnist.py:267: extract_labels (from tensorflow.contrib.learn.python.learn.datasets.mnist) is deprecated and will be removed in a future version.\n",
      "Instructions for updating:\n",
      "Please use tf.data to implement this functionality.\n",
      "Extracting MNIST_data\\train-labels-idx1-ubyte.gz\n",
      "Extracting MNIST_data\\t10k-images-idx3-ubyte.gz\n",
      "Extracting MNIST_data\\t10k-labels-idx1-ubyte.gz\n",
      "WARNING:tensorflow:From D:\\ProgramFiles\\Anaconda3\\lib\\site-packages\\tensorflow\\contrib\\learn\\python\\learn\\datasets\\mnist.py:290: DataSet.__init__ (from tensorflow.contrib.learn.python.learn.datasets.mnist) is deprecated and will be removed in a future version.\n",
      "Instructions for updating:\n",
      "Please use alternatives such as official/mnist/dataset.py from tensorflow/models.\n"
     ]
    }
   ],
   "source": [
    "mnist = input_data.read_data_sets('MNIST_data')\n",
    "trX, trY, teX, teY = mnist.train.images, mnist.train.labels, mnist.test.images, mnist.test.labels"
   ]
  },
  {
   "cell_type": "markdown",
   "metadata": {},
   "source": [
    "3. 定义类 StackedAutoencoder。__init__ 方法包括一个列表，其中包含每个自编码器中的诸多神经元，从第一个输入自编码器和学习率开始。由于每层都有不同的输入和输出维度，因此选择一个字典数据结构来表示每层的权重、偏置和输入"
   ]
  },
  {
   "cell_type": "code",
   "execution_count": 6,
   "metadata": {},
   "outputs": [],
   "source": [
    "class StackAutoEncoder:\n",
    "    \"\"\"堆叠自动编码器\"\"\"\n",
    "    \n",
    "    def __init__(self, list1, eta=0.02):\n",
    "        \"\"\"\n",
    "        list1: [input_dimension, hidden_layer_1, ... , hidden_layer_n]\n",
    "        \"\"\"\n",
    "        N = len(list1) - 1\n",
    "        self._m = list1[0]\n",
    "        self.learning_rate = eta\n",
    "        self.session = None\n",
    "        \n",
    "        # 构建计算图\n",
    "        self._W = {}\n",
    "        self._b = {}\n",
    "        self._X = {}\n",
    "        self._X['0'] = tf.placeholder(dtype='float', shape=[None, list1[0]])\n",
    "        \n",
    "        for i in range(N):\n",
    "            \n",
    "            layer = '{0}'.format(i + 1)\n",
    "            print('AutoEncoder Layer {0}: {1} --> {2}'.format(layer, list1[i], list1[i + 1]))\n",
    "            \n",
    "            self._W['E' + layer] = tf.Variable(tf.random_normal(shape=[list1[i], list1[i + 1]]), name='WtsEncoder' + layer)\n",
    "            self._b['E' + layer] = tf.Variable(np.zeros(list1[i + 1]).astype(np.float32), name='BiasEncoder' + layer)\n",
    "            self._X[layer] = tf.placeholder(dtype='float', shape=[None, list1[i + 1]])\n",
    "            \n",
    "            self._W['D' + layer] = tf.transpose(self._W['E' + layer])    # 解码器权重与编码器共享\n",
    "            self._b['D' + layer] = tf.Variable(np.zeros(list1[i]).astype(np.float32), name='BiasDecoder' + layer)\n",
    "            self._X_noisy = tf.placeholder(dtype='float', shape=[None, self._m])\n",
    "        \n",
    "        # 建立计算图，在预训练时为每个自编码器定义优化参数，\n",
    "        # 当上一个自编码器的输出作为当前自编码器的输入时，为其定义重构损失\n",
    "        # 为此定义了方法 pretrain 和 one_pass，分别为每个自编码器返回编码器的训练操作和输出\n",
    "        self.train_ops = {}\n",
    "        self.out = {}\n",
    "        for i in range(N):\n",
    "            layer = '{0}'.format(i + 1)\n",
    "            prev_layer = '{0}'.format(i)\n",
    "            opt = self.pretrain(self._X[prev_layer], layer)\n",
    "            self.train_ops[layer] = opt\n",
    "            self.out[layer] = self.one_pass(\n",
    "                self._X[prev_layer], self._W['E' + layer], self._b['E' + layer], self._b['D' + layer])\n",
    "        \n",
    "        # 在计算图中对整个堆叠自编码器进行微调，这里使用类方法 encoder 和 decoder 来实现\n",
    "        self.y = self.encoder(self._X_noisy, N)    # 编码器输出\n",
    "        self.r = self.decoder(self.y, N)           # 解码器输出\n",
    "        \n",
    "        optimizer = tf.train.AdamOptimizer(self.learning_rate)\n",
    "        error = self._X['0'] - self.r    # 重构误差\n",
    "        self._loss = tf.reduce_mean(tf.pow(error, 2))\n",
    "        self._opt = optimizer.minimize(self._loss)\n",
    "    \n",
    "    def fit(self, Xtrain, Xtr_noisy, layers, epochs=1, batch_size=100):\n",
    "        \"\"\"自编码器训练\"\"\"\n",
    "        \n",
    "        N, D = Xtrain.shape\n",
    "        num_batches = N // batch_size\n",
    "        X_noisy = {}\n",
    "        X = {}\n",
    "        \n",
    "        X_noisy['0'] = Xtr_noisy\n",
    "        X['0'] = Xtrain\n",
    "        \n",
    "        # 预训练单层权重\n",
    "        for i in range(layers):\n",
    "            Xin = X[str(i)]\n",
    "            print('Pretraining Layer ', i + 1)\n",
    "            for e in range(5):\n",
    "                for j in range(num_batches):\n",
    "                    batch = Xin[j * batch_size: (j * batch_size + batch_size)]\n",
    "                    self.session.run(self.train_ops[str(i + 1)], feed_dict={self._X[str(i)]: batch})\n",
    "                    X[str(i + 1)] = self.session.run(\n",
    "                        self.out[str(i + 1)], \n",
    "                        feed_dict={self._X[str(i)]: Xin}\n",
    "                    )\n",
    "        print('Pretraining Finished')\n",
    "        \n",
    "        # 整体同时训练，fine-tune\n",
    "        obj = []\n",
    "        for i in range(epochs):\n",
    "            for j in range(num_batches):\n",
    "                batch = Xtrain[j * batch_size: (j * batch_size + batch_size)]\n",
    "                batch_noisy = Xtr_noisy[j * batch_size: (j * batch_size + batch_size)]\n",
    "                _, ob = self.session.run(\n",
    "                    [self._opt, self._loss],\n",
    "                    feed_dict={self._X['0']: batch, self._X_noisy: batch_noisy}\n",
    "                )\n",
    "                if j % 100 == 0:\n",
    "                    print('training epoch {0} batch {2} cost {1}'.format(i, ob, j))\n",
    "                obj.append(ob)\n",
    "        \n",
    "        return obj\n",
    "    \n",
    "    def encoder(self, X, N):\n",
    "        x = X\n",
    "        for i in range(N):\n",
    "            layer = '{0}'.format(i + 1)\n",
    "            hiddenE = tf.nn.sigmoid(tf.matmul(x, self._W['E' + layer]) + self._b['E' + layer])\n",
    "            x = hiddenE\n",
    "        return x\n",
    "    \n",
    "    def decoder(self, X, N):\n",
    "        x = X\n",
    "        for i in range(N, 0, -1):\n",
    "            layer = '{0}'.format(i)\n",
    "            hiddenD = tf.nn.sigmoid(tf.matmul(x, self._W['D' + layer]) + self._b['D' + layer])\n",
    "            x = hiddenD\n",
    "        return x\n",
    "    \n",
    "    def set_session(self, session):\n",
    "        self.session = session\n",
    "    \n",
    "    def reconstruct(self, x, n_layers):\n",
    "        h = self.encoder(x, n_layers)\n",
    "        r = self.decoder(h, n_layers)\n",
    "        return self.session.run(r, feed_dict={self._X['0']: x})\n",
    "    \n",
    "    def pretrain(self, X, layer):\n",
    "        y = tf.nn.sigmoid(tf.matmul(X, self._W['E' + layer]) + self._b['E' + layer])\n",
    "        r = tf.nn.sigmoid(tf.matmul(y, self._W['D' + layer]) + self._b['D' + layer])\n",
    "        # 目标函数\n",
    "        error = X - r    # 重构误差\n",
    "        loss = tf.reduce_mean(tf.pow(error, 2))\n",
    "        opt = tf.train.AdamOptimizer(.001).minimize(\n",
    "            loss, var_list=[self._W['E' + layer], self._b['E' + layer], self._b['D' + layer]])\n",
    "        return opt\n",
    "    \n",
    "    def one_pass(self, X, W, b, c):\n",
    "        h = tf.nn.sigmoid(tf.matmul(X, W) + b)\n",
    "        return h\n",
    "    "
   ]
  },
  {
   "cell_type": "markdown",
   "metadata": {},
   "source": [
    "4. 使用 corrupt_img 函数为图像加入噪声，最后创建一个 StackAutoencoder 对象并对其进行训练"
   ]
  },
  {
   "cell_type": "code",
   "execution_count": 7,
   "metadata": {},
   "outputs": [],
   "source": [
    "def corrupt_img(x, noise_factor=0.3):\n",
    "    noisy_imgs = x + noise_factor * np.random.randn(*x.shape)\n",
    "    noisy_imgs = np.clip(noisy_imgs, 0., 1.)\n",
    "    return noisy_imgs"
   ]
  },
  {
   "cell_type": "code",
   "execution_count": 8,
   "metadata": {
    "scrolled": false
   },
   "outputs": [
    {
     "name": "stdout",
     "output_type": "stream",
     "text": [
      "AutoEncoder Layer 1: 784 --> 500\n",
      "AutoEncoder Layer 2: 500 --> 50\n",
      "Pretraining Layer  1\n",
      "Pretraining Layer  2\n",
      "Pretraining Finished\n",
      "training epoch 0 batch 0 cost 0.0982593446969986\n",
      "training epoch 0 batch 100 cost 0.0743485763669014\n",
      "training epoch 0 batch 200 cost 0.07117544114589691\n",
      "training epoch 0 batch 300 cost 0.0678023025393486\n",
      "training epoch 0 batch 400 cost 0.06337692588567734\n",
      "training epoch 0 batch 500 cost 0.06018786504864693\n",
      "training epoch 1 batch 0 cost 0.06139209866523743\n",
      "training epoch 1 batch 100 cost 0.055769722908735275\n",
      "training epoch 1 batch 200 cost 0.05097879096865654\n",
      "training epoch 1 batch 300 cost 0.04792794957756996\n",
      "training epoch 1 batch 400 cost 0.04812663793563843\n",
      "training epoch 1 batch 500 cost 0.047136127948760986\n",
      "training epoch 2 batch 0 cost 0.046312641352415085\n",
      "training epoch 2 batch 100 cost 0.04409697279334068\n",
      "training epoch 2 batch 200 cost 0.04112739861011505\n",
      "training epoch 2 batch 300 cost 0.039703771471977234\n",
      "training epoch 2 batch 400 cost 0.039239153265953064\n",
      "training epoch 2 batch 500 cost 0.03868045657873154\n",
      "training epoch 3 batch 0 cost 0.03869371861219406\n",
      "training epoch 3 batch 100 cost 0.036523155868053436\n",
      "training epoch 3 batch 200 cost 0.03438018262386322\n",
      "training epoch 3 batch 300 cost 0.034379925578832626\n",
      "training epoch 3 batch 400 cost 0.035848524421453476\n",
      "training epoch 3 batch 500 cost 0.03525818511843681\n",
      "training epoch 4 batch 0 cost 0.03509190306067467\n",
      "training epoch 4 batch 100 cost 0.03332080319523811\n",
      "training epoch 4 batch 200 cost 0.032111503183841705\n",
      "training epoch 4 batch 300 cost 0.032325152307748795\n",
      "training epoch 4 batch 400 cost 0.03375611454248428\n",
      "training epoch 4 batch 500 cost 0.034239329397678375\n",
      "training epoch 5 batch 0 cost 0.034376464784145355\n",
      "training epoch 5 batch 100 cost 0.03277862071990967\n",
      "training epoch 5 batch 200 cost 0.03154367208480835\n",
      "training epoch 5 batch 300 cost 0.031246226280927658\n",
      "training epoch 5 batch 400 cost 0.033055953681468964\n",
      "training epoch 5 batch 500 cost 0.033403437584638596\n",
      "training epoch 6 batch 0 cost 0.032545145601034164\n",
      "training epoch 6 batch 100 cost 0.03196375072002411\n",
      "training epoch 6 batch 200 cost 0.029891207814216614\n",
      "training epoch 6 batch 300 cost 0.03031567856669426\n",
      "training epoch 6 batch 400 cost 0.032705359160900116\n",
      "training epoch 6 batch 500 cost 0.03298785910010338\n",
      "training epoch 7 batch 0 cost 0.032459408044815063\n",
      "training epoch 7 batch 100 cost 0.03152460977435112\n",
      "training epoch 7 batch 200 cost 0.03074425458908081\n",
      "training epoch 7 batch 300 cost 0.029214046895503998\n",
      "training epoch 7 batch 400 cost 0.031487468630075455\n",
      "training epoch 7 batch 500 cost 0.031100161373615265\n",
      "training epoch 8 batch 0 cost 0.030284250155091286\n",
      "training epoch 8 batch 100 cost 0.030172791332006454\n",
      "training epoch 8 batch 200 cost 0.02843453548848629\n",
      "training epoch 8 batch 300 cost 0.027988050132989883\n",
      "training epoch 8 batch 400 cost 0.030744479969143867\n",
      "training epoch 8 batch 500 cost 0.030272427946329117\n",
      "training epoch 9 batch 0 cost 0.030203573405742645\n",
      "training epoch 9 batch 100 cost 0.028909102082252502\n",
      "training epoch 9 batch 200 cost 0.028039878234267235\n",
      "training epoch 9 batch 300 cost 0.02763930708169937\n",
      "training epoch 9 batch 400 cost 0.030988477170467377\n",
      "training epoch 9 batch 500 cost 0.029489219188690186\n",
      "training epoch 10 batch 0 cost 0.029868338257074356\n",
      "training epoch 10 batch 100 cost 0.029313847422599792\n",
      "training epoch 10 batch 200 cost 0.028192244470119476\n",
      "training epoch 10 batch 300 cost 0.02700742706656456\n",
      "training epoch 10 batch 400 cost 0.02980603277683258\n",
      "training epoch 10 batch 500 cost 0.029324626550078392\n",
      "training epoch 11 batch 0 cost 0.028924155980348587\n",
      "training epoch 11 batch 100 cost 0.02818160131573677\n",
      "training epoch 11 batch 200 cost 0.027884842827916145\n",
      "training epoch 11 batch 300 cost 0.026842188090085983\n",
      "training epoch 11 batch 400 cost 0.029444200918078423\n",
      "training epoch 11 batch 500 cost 0.028943674638867378\n",
      "training epoch 12 batch 0 cost 0.0293976329267025\n",
      "training epoch 12 batch 100 cost 0.028418010100722313\n",
      "training epoch 12 batch 200 cost 0.026992492377758026\n",
      "training epoch 12 batch 300 cost 0.027060870081186295\n",
      "training epoch 12 batch 400 cost 0.03031276725232601\n",
      "training epoch 12 batch 500 cost 0.028747592121362686\n",
      "training epoch 13 batch 0 cost 0.02833549678325653\n",
      "training epoch 13 batch 100 cost 0.028825409710407257\n",
      "training epoch 13 batch 200 cost 0.0271401759237051\n",
      "training epoch 13 batch 300 cost 0.026972316205501556\n",
      "training epoch 13 batch 400 cost 0.029431750997900963\n",
      "training epoch 13 batch 500 cost 0.02933160588145256\n",
      "training epoch 14 batch 0 cost 0.02902354672551155\n",
      "training epoch 14 batch 100 cost 0.02752627059817314\n",
      "training epoch 14 batch 200 cost 0.026784304529428482\n",
      "training epoch 14 batch 300 cost 0.02676575258374214\n",
      "training epoch 14 batch 400 cost 0.0287930890917778\n",
      "training epoch 14 batch 500 cost 0.029000991955399513\n",
      "training epoch 15 batch 0 cost 0.028295179829001427\n",
      "training epoch 15 batch 100 cost 0.02770833484828472\n",
      "training epoch 15 batch 200 cost 0.026202816516160965\n",
      "training epoch 15 batch 300 cost 0.027405083179473877\n",
      "training epoch 15 batch 400 cost 0.028184933587908745\n",
      "training epoch 15 batch 500 cost 0.027652090415358543\n",
      "training epoch 16 batch 0 cost 0.02732425555586815\n",
      "training epoch 16 batch 100 cost 0.026601692661643028\n",
      "training epoch 16 batch 200 cost 0.026363233104348183\n",
      "training epoch 16 batch 300 cost 0.026275593787431717\n",
      "training epoch 16 batch 400 cost 0.028488298878073692\n",
      "training epoch 16 batch 500 cost 0.026966776698827744\n",
      "training epoch 17 batch 0 cost 0.027018563821911812\n",
      "training epoch 17 batch 100 cost 0.02596081607043743\n",
      "training epoch 17 batch 200 cost 0.025646384805440903\n",
      "training epoch 17 batch 300 cost 0.024551430717110634\n",
      "training epoch 17 batch 400 cost 0.027769053354859352\n",
      "training epoch 17 batch 500 cost 0.02707919292151928\n",
      "training epoch 18 batch 0 cost 0.02690497599542141\n",
      "training epoch 18 batch 100 cost 0.02718854323029518\n",
      "training epoch 18 batch 200 cost 0.02505224570631981\n",
      "training epoch 18 batch 300 cost 0.02428189106285572\n",
      "training epoch 18 batch 400 cost 0.02733670361340046\n",
      "training epoch 18 batch 500 cost 0.02675159089267254\n",
      "training epoch 19 batch 0 cost 0.027004463598132133\n",
      "training epoch 19 batch 100 cost 0.026479510590434074\n",
      "training epoch 19 batch 200 cost 0.02515631914138794\n",
      "training epoch 19 batch 300 cost 0.024597642943263054\n",
      "training epoch 19 batch 400 cost 0.027040081098675728\n",
      "training epoch 19 batch 500 cost 0.027402065694332123\n",
      "training epoch 20 batch 0 cost 0.027576955035328865\n",
      "training epoch 20 batch 100 cost 0.025986991822719574\n",
      "training epoch 20 batch 200 cost 0.024990856647491455\n",
      "training epoch 20 batch 300 cost 0.02503424510359764\n",
      "training epoch 20 batch 400 cost 0.02792574279010296\n",
      "training epoch 20 batch 500 cost 0.02676699310541153\n",
      "training epoch 21 batch 0 cost 0.028292154893279076\n",
      "training epoch 21 batch 100 cost 0.026776758953928947\n",
      "training epoch 21 batch 200 cost 0.025459853932261467\n",
      "training epoch 21 batch 300 cost 0.02549433521926403\n",
      "training epoch 21 batch 400 cost 0.02752593904733658\n",
      "training epoch 21 batch 500 cost 0.027641434222459793\n",
      "training epoch 22 batch 0 cost 0.028548702597618103\n",
      "training epoch 22 batch 100 cost 0.026399778202176094\n",
      "training epoch 22 batch 200 cost 0.02523973025381565\n",
      "training epoch 22 batch 300 cost 0.024189721792936325\n",
      "training epoch 22 batch 400 cost 0.027992215007543564\n",
      "training epoch 22 batch 500 cost 0.0267904344946146\n",
      "training epoch 23 batch 0 cost 0.027653437107801437\n",
      "training epoch 23 batch 100 cost 0.027000177651643753\n",
      "training epoch 23 batch 200 cost 0.02516261860728264\n",
      "training epoch 23 batch 300 cost 0.024129699915647507\n",
      "training epoch 23 batch 400 cost 0.027582449838519096\n",
      "training epoch 23 batch 500 cost 0.02649141289293766\n",
      "training epoch 24 batch 0 cost 0.026661351323127747\n",
      "training epoch 24 batch 100 cost 0.02731151320040226\n",
      "training epoch 24 batch 200 cost 0.0244826041162014\n",
      "training epoch 24 batch 300 cost 0.02387005090713501\n",
      "training epoch 24 batch 400 cost 0.028321795165538788\n",
      "training epoch 24 batch 500 cost 0.026301926001906395\n",
      "training epoch 25 batch 0 cost 0.026294369250535965\n",
      "training epoch 25 batch 100 cost 0.02642526477575302\n",
      "training epoch 25 batch 200 cost 0.025374852120876312\n"
     ]
    },
    {
     "name": "stdout",
     "output_type": "stream",
     "text": [
      "training epoch 25 batch 300 cost 0.0245332270860672\n",
      "training epoch 25 batch 400 cost 0.028159398585557938\n",
      "training epoch 25 batch 500 cost 0.02610303834080696\n",
      "training epoch 26 batch 0 cost 0.026052579283714294\n",
      "training epoch 26 batch 100 cost 0.025894321501255035\n",
      "training epoch 26 batch 200 cost 0.024527113884687424\n",
      "training epoch 26 batch 300 cost 0.023736171424388885\n",
      "training epoch 26 batch 400 cost 0.02733887918293476\n",
      "training epoch 26 batch 500 cost 0.025837549939751625\n",
      "training epoch 27 batch 0 cost 0.025105202570557594\n",
      "training epoch 27 batch 100 cost 0.02463827095925808\n",
      "training epoch 27 batch 200 cost 0.02407577820122242\n",
      "training epoch 27 batch 300 cost 0.023544032126665115\n",
      "training epoch 27 batch 400 cost 0.026093613356351852\n",
      "training epoch 27 batch 500 cost 0.025555403903126717\n",
      "training epoch 28 batch 0 cost 0.025049705058336258\n",
      "training epoch 28 batch 100 cost 0.024253370240330696\n",
      "training epoch 28 batch 200 cost 0.024024460464715958\n",
      "training epoch 28 batch 300 cost 0.02338731847703457\n",
      "training epoch 28 batch 400 cost 0.026833457872271538\n",
      "training epoch 28 batch 500 cost 0.02548510581254959\n",
      "training epoch 29 batch 0 cost 0.025199031457304955\n",
      "training epoch 29 batch 100 cost 0.023977315053343773\n",
      "training epoch 29 batch 200 cost 0.024121470749378204\n",
      "training epoch 29 batch 300 cost 0.023607345297932625\n",
      "training epoch 29 batch 400 cost 0.026560062542557716\n",
      "training epoch 29 batch 500 cost 0.02559998817741871\n"
     ]
    }
   ],
   "source": [
    "Xtrain = trX.astype(np.float32)\n",
    "Xtrain_noisy = corrupt_img(Xtrain).astype(np.float32)\n",
    "Xtest = teX.astype(np.float32)\n",
    "Xtest_noisy = corrupt_img(Xtest).astype(np.float32)\n",
    "_, m = Xtrain.shape\n",
    "\n",
    "list1 = [m, 500, 50]    # 定义每层自编码器的神经元数量\n",
    "n_layers = len(list1) - 1\n",
    "\n",
    "stack_auto_encoder = StackAutoEncoder(list1)\n",
    "\n",
    "# 变量初始化\n",
    "with tf.Session() as sess:\n",
    "    sess.run(tf.global_variables_initializer())\n",
    "    stack_auto_encoder.set_session(sess)\n",
    "    err = stack_auto_encoder.fit(Xtrain, Xtrain_noisy, n_layers, epochs=30)\n",
    "    out = stack_auto_encoder.reconstruct(Xtest_noisy[:100], n_layers)"
   ]
  },
  {
   "cell_type": "markdown",
   "metadata": {},
   "source": [
    "5. 可视化 loss 变化曲线"
   ]
  },
  {
   "cell_type": "code",
   "execution_count": 9,
   "metadata": {},
   "outputs": [
    {
     "data": {
      "image/png": "[encoded data removed]",
      "text/plain": [
       "<Figure size 1080x288 with 1 Axes>"
      ]
     },
     "metadata": {
      "needs_background": "light"
     },
     "output_type": "display_data"
    }
   ],
   "source": [
    "plt.figure(figsize=(15, 4))\n",
    "plt.plot(err)\n",
    "plt.xlabel('epochs')\n",
    "plt.ylabel('Fine Tuning Reconsturction Error')\n",
    "plt.show()"
   ]
  },
  {
   "cell_type": "markdown",
   "metadata": {},
   "source": [
    "6. 测试堆叠自编码器性能"
   ]
  },
  {
   "cell_type": "code",
   "execution_count": 13,
   "metadata": {},
   "outputs": [
    {
     "data": {
      "image/png": "[encoded data removed]",
      "text/plain": [
       "<Figure size 1440x288 with 20 Axes>"
      ]
     },
     "metadata": {
      "needs_background": "light"
     },
     "output_type": "display_data"
    }
   ],
   "source": [
    "row, col = 2, 10\n",
    "idx = np.random.randint(0, 100, row * col // 2)\n",
    "f, axarr = plt.subplots(row, col, sharex=True, sharey=True, figsize=(20, 4))\n",
    "for fig, row in zip([Xtest_noisy, out], axarr):\n",
    "    for i, ax in zip(idx, row):\n",
    "        ax.imshow(fig[i].reshape((28, 28)), cmap='Greys_r')\n",
    "        ax.get_xaxis().set_visible(False)\n",
    "        ax.get_yaxis().set_visible(False)"
   ]
  },
  {
   "cell_type": "code",
   "execution_count": null,
   "metadata": {},
   "outputs": [],
   "source": []
  }
 ],
 "metadata": {
  "kernelspec": {
   "display_name": "Python 3",
   "language": "python",
   "name": "python3"
  },
  "language_info": {
   "codemirror_mode": {
    "name": "ipython",
    "version": 3
   },
   "file_extension": ".py",
   "mimetype": "text/x-python",
   "name": "python",
   "nbconvert_exporter": "python",
   "pygments_lexer": "ipython3",
   "version": "3.7.1"
  }
 },
 "nbformat": 4,
 "nbformat_minor": 2
}
